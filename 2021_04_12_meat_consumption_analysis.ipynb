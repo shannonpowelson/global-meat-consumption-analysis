{
  "nbformat": 4,
  "nbformat_minor": 0,
  "metadata": {
    "colab": {
      "name": "2021-04-12-meat-consumption-analysis.ipynb",
      "provenance": [],
      "collapsed_sections": [
        "pZpiz54OnAGk",
        "cmG63WGSnh6A",
        "z_YMSZxSsG-q"
      ],
      "authorship_tag": "ABX9TyNf7Qi5ypWYzdBW5LgUWdPh",
      "include_colab_link": true
    },
    "kernelspec": {
      "name": "python3",
      "display_name": "Python 3"
    },
    "language_info": {
      "name": "python"
    }
  },
  "cells": [
    {
      "cell_type": "markdown",
      "metadata": {
        "id": "view-in-github",
        "colab_type": "text"
      },
      "source": [
        "<a href=\"https://colab.research.google.com/github/shannonpowelson/global-meat-consumption-analysis/blob/main/2021_04_12_meat_consumption_analysis.ipynb\" target=\"_parent\"><img src=\"https://colab.research.google.com/assets/colab-badge.svg\" alt=\"Open In Colab\"/></a>"
      ]
    },
    {
      "cell_type": "markdown",
      "metadata": {
        "id": "QV6VaN-knKNT"
      },
      "source": [
        "# Global Meat Consumption Analysis "
      ]
    },
    {
      "cell_type": "markdown",
      "metadata": {
        "id": "pZpiz54OnAGk"
      },
      "source": [
        "# Import Libraries"
      ]
    },
    {
      "cell_type": "markdown",
      "metadata": {
        "id": "-rUNARp4nToJ"
      },
      "source": [
        "First we will import the libraries needed to run our code in later sections"
      ]
    },
    {
      "cell_type": "code",
      "metadata": {
        "id": "u9yjZUd5Unlv"
      },
      "source": [
        "#import libraries\n",
        "#data visualization\n",
        "import matplotlib.pyplot as plt\n",
        "import plotly.express as px\n",
        "#data analysis\n",
        "import pandas as pd\n",
        "#import files to our computer\n",
        "from google.colab import files"
      ],
      "execution_count": 90,
      "outputs": []
    },
    {
      "cell_type": "markdown",
      "metadata": {
        "id": "cmG63WGSnh6A"
      },
      "source": [
        "# Beef Consumption Over Time"
      ]
    },
    {
      "cell_type": "markdown",
      "metadata": {
        "id": "fOeRJlaVagD_"
      },
      "source": [
        "First we will import data from this [github repository](https://github.com/shannonpowelson/global-meat-consumption-analysis/blob/main/meat_consumption_worldwide.csv)"
      ]
    },
    {
      "cell_type": "code",
      "metadata": {
        "id": "-i6hFnyJbtiC"
      },
      "source": [
        "#import csv of global meat consumption data from our github repository (this data is originally from Kaggle)\n",
        "#save the csv link\n",
        "meat = \"https://raw.githubusercontent.com/shannonpowelson/global-meat-consumption-analysis/main/meat_consumption_worldwide.csv\""
      ],
      "execution_count": 92,
      "outputs": []
    },
    {
      "cell_type": "markdown",
      "metadata": {
        "id": "LBtyPQroo3FL"
      },
      "source": [
        "Create the initial data frame"
      ]
    },
    {
      "cell_type": "code",
      "metadata": {
        "id": "5PMdwy4Xb0it"
      },
      "source": [
        "#Define the data frame\n",
        "df_meat = pd.read_csv(meat)"
      ],
      "execution_count": 97,
      "outputs": []
    },
    {
      "cell_type": "markdown",
      "metadata": {
        "id": "GIw5P8dao7hs"
      },
      "source": [
        "Create other data frames needed for the analysis"
      ]
    },
    {
      "cell_type": "code",
      "metadata": {
        "id": "6kpHaPEucu2i"
      },
      "source": [
        "#Make a new data frame containing meat consumption measured only in kilograms per capita\n",
        "df_meat = df_meat[df_meat['MEASURE']=='KG_CAP']"
      ],
      "execution_count": 98,
      "outputs": []
    },
    {
      "cell_type": "code",
      "metadata": {
        "id": "5nXx7wczngEk"
      },
      "source": [
        "#Make a new data frame containing only beef consumption measured in kilograms per capita\n",
        "df_meat_beef = df_meat[df_meat['SUBJECT']=='BEEF']"
      ],
      "execution_count": 99,
      "outputs": []
    },
    {
      "cell_type": "code",
      "metadata": {
        "id": "pIO2dLS5pnQw"
      },
      "source": [
        "#Make a new data frame for beef consumption in USA measured in kilograms per capita\n",
        "df_beef_USA = df_meat_beef[df_meat_beef['LOCATION']=='USA']"
      ],
      "execution_count": 100,
      "outputs": []
    },
    {
      "cell_type": "code",
      "metadata": {
        "id": "d-G16qRdytRI"
      },
      "source": [
        "#Make a new data frame for beef consumption in Australia in kilograms per capita\n",
        "df_beef_AUS = df_meat_beef[df_meat_beef['LOCATION']=='AUS']"
      ],
      "execution_count": 101,
      "outputs": []
    },
    {
      "cell_type": "code",
      "metadata": {
        "id": "Z6IE0swVy6Pz"
      },
      "source": [
        "#Make a new data frame for beef consumption in India in kilograms per capita\n",
        "df_beef_IND = df_meat_beef[df_meat_beef['LOCATION']=='IND']"
      ],
      "execution_count": 102,
      "outputs": []
    },
    {
      "cell_type": "code",
      "metadata": {
        "id": "0blaiicezJiG"
      },
      "source": [
        "#Make a new data frame for beef consumption in Bangladesh in kilograms per capita\n",
        "df_beef_BGD = df_meat_beef[df_meat_beef['LOCATION']=='BGD']"
      ],
      "execution_count": 103,
      "outputs": []
    },
    {
      "cell_type": "code",
      "metadata": {
        "id": "QlbUoWj63WGq"
      },
      "source": [
        "#Make a new data frame for beef consumption in Israel in kilograms per capita\n",
        "df_beef_ISR = df_meat_beef[df_meat_beef['LOCATION']=='ISR']"
      ],
      "execution_count": 104,
      "outputs": []
    },
    {
      "cell_type": "code",
      "metadata": {
        "id": "yDkjeQdY3b1J"
      },
      "source": [
        "#Make a new data frame for beef consumption in Mozambique in kilograms per capita\n",
        "df_beef_MOZ = df_meat_beef[df_meat_beef['LOCATION']=='MOZ']"
      ],
      "execution_count": 105,
      "outputs": []
    },
    {
      "cell_type": "markdown",
      "metadata": {
        "id": "7tIGqe1_pt1g"
      },
      "source": [
        "Graph the beef consumption from 1991 to 2026 for these six countries"
      ]
    },
    {
      "cell_type": "code",
      "metadata": {
        "colab": {
          "base_uri": "https://localhost:8080/",
          "height": 312
        },
        "id": "6UkUek42zRZb",
        "outputId": "45c7fd7d-5aab-4fc7-b6fa-4b15a6316ac5"
      },
      "source": [
        "least_and_most_consumption = plt.figure() #This will be used later to save the image of the graph\n",
        "ax = plt.gca(title = \"Beef Consumption by Country from 1991 to 2026\") #This defines the axis in order to plot multiple lines\n",
        "df_beef_USA.plot(x = 'TIME', y = 'Value', kind='line', label ='United States', ax=ax) #USA beef consumption\n",
        "df_beef_AUS.plot(x = 'TIME', y='Value', kind='line', label = 'Australia', ax=ax) #AUS beef consumption\n",
        "df_beef_IND.plot(x='TIME', y='Value', kind='line', label = 'India', ax=ax) #IND beef consumption\n",
        "df_beef_BGD.plot(x='TIME', y='Value', kind='line', label = 'Bangladesh', ax=ax) #BGD beef consumption\n",
        "df_beef_ISR.plot(x='TIME', y='Value', kind='line', label='Israel', ax=ax) #ISR beef consumption\n",
        "df_beef_MOZ.plot(x='TIME', y='Value', kind='line', label='Mozambique', ax=ax) #MOZ beef consumption\n",
        "plt.xlabel('Year') #This labels the x axis\n",
        "plt.ylabel('Beef Consumption (kilogram/capita)') #this labels the y axis"
      ],
      "execution_count": 106,
      "outputs": [
        {
          "output_type": "execute_result",
          "data": {
            "text/plain": [
              "Text(0, 0.5, 'Beef Consumption (kilogram/capita)')"
            ]
          },
          "metadata": {
            "tags": []
          },
          "execution_count": 106
        },
        {
          "output_type": "display_data",
          "data": {
            "image/png": "[encoded data removed]",
            "text/plain": [
              "<Figure size 432x288 with 1 Axes>"
            ]
          },
          "metadata": {
            "tags": [],
            "needs_background": "light"
          }
        }
      ]
    },
    {
      "cell_type": "markdown",
      "metadata": {
        "id": "0V_ADVQZqUSj"
      },
      "source": [
        "Save the graph as an image"
      ]
    },
    {
      "cell_type": "code",
      "metadata": {
        "id": "94BPW-BL111K"
      },
      "source": [
        "#saves the figure\n",
        "least_and_most_consumption.savefig('least_and_most_consumption.png')"
      ],
      "execution_count": 107,
      "outputs": []
    },
    {
      "cell_type": "code",
      "metadata": {
        "colab": {
          "base_uri": "https://localhost:8080/",
          "height": 17
        },
        "id": "RGGrQx_063Mi",
        "outputId": "c9bbc67d-d817-4404-f810-6c7510d4643a"
      },
      "source": [
        "#downloads the figure as an image onto the computer\n",
        "files.download('least_and_most_consumption.png')"
      ],
      "execution_count": 108,
      "outputs": [
        {
          "output_type": "display_data",
          "data": {
            "application/javascript": [
              "\n",
              "    async function download(id, filename, size) {\n",
              "      if (!google.colab.kernel.accessAllowed) {\n",
              "        return;\n",
              "      }\n",
              "      const div = document.createElement('div');\n",
              "      const label = document.createElement('label');\n",
              "      label.textContent = `Downloading \"${filename}\": `;\n",
              "      div.appendChild(label);\n",
              "      const progress = document.createElement('progress');\n",
              "      progress.max = size;\n",
              "      div.appendChild(progress);\n",
              "      document.body.appendChild(div);\n",
              "\n",
              "      const buffers = [];\n",
              "      let downloaded = 0;\n",
              "\n",
              "      const channel = await google.colab.kernel.comms.open(id);\n",
              "      // Send a message to notify the kernel that we're ready.\n",
              "      channel.send({})\n",
              "\n",
              "      for await (const message of channel.messages) {\n",
              "        // Send a message to notify the kernel that we're ready.\n",
              "        channel.send({})\n",
              "        if (message.buffers) {\n",
              "          for (const buffer of message.buffers) {\n",
              "            buffers.push(buffer);\n",
              "            downloaded += buffer.byteLength;\n",
              "            progress.value = downloaded;\n",
              "          }\n",
              "        }\n",
              "      }\n",
              "      const blob = new Blob(buffers, {type: 'application/binary'});\n",
              "      const a = document.createElement('a');\n",
              "      a.href = window.URL.createObjectURL(blob);\n",
              "      a.download = filename;\n",
              "      div.appendChild(a);\n",
              "      a.click();\n",
              "      div.remove();\n",
              "    }\n",
              "  "
            ],
            "text/plain": [
              "<IPython.core.display.Javascript object>"
            ]
          },
          "metadata": {
            "tags": []
          }
        },
        {
          "output_type": "display_data",
          "data": {
            "application/javascript": [
              "download(\"download_cde801b0-f104-4726-a92d-019ab66fd511\", \"least_and_most_consumption.png\", 32531)"
            ],
            "text/plain": [
              "<IPython.core.display.Javascript object>"
            ]
          },
          "metadata": {
            "tags": []
          }
        }
      ]
    },
    {
      "cell_type": "markdown",
      "metadata": {
        "id": "zxCXDdsoqkFE"
      },
      "source": [
        "Graph the beef consumption from 1991 to 2026 for the three countries that consume the least amount of meat"
      ]
    },
    {
      "cell_type": "code",
      "metadata": {
        "colab": {
          "base_uri": "https://localhost:8080/",
          "height": 312
        },
        "id": "7qUtMZ822Uv1",
        "outputId": "38498c63-e8e8-44a5-8b8e-80d36cbc9d72"
      },
      "source": [
        "least_consumption = plt.figure() #This will be used later to save the image of the graph\n",
        "ax = plt.gca(title = \"Beef Consumption by Country from 1991 to 2026\") #This defines the axis in order to plot multiple lines\n",
        "df_beef_IND.plot(x='TIME', y='Value', kind='line', label = 'India', ax=ax) #IND beef consumption\n",
        "df_beef_BGD.plot(x='TIME', y='Value', kind='line', label = 'Bangladesh', ax=ax) #BGD beef consumption\n",
        "df_beef_MOZ.plot(x='TIME', y='Value', kind='line', label = 'Mozambique', ax=ax) #MOZ beef consumption\n",
        "plt.xlabel('Year') #This labels the x axis\n",
        "plt.ylabel('Beef Consumption (kilogram/capita)') #This labels the y axis"
      ],
      "execution_count": 109,
      "outputs": [
        {
          "output_type": "execute_result",
          "data": {
            "text/plain": [
              "Text(0, 0.5, 'Beef Consumption (kilogram/capita)')"
            ]
          },
          "metadata": {
            "tags": []
          },
          "execution_count": 109
        },
        {
          "output_type": "display_data",
          "data": {
            "image/png": "[encoded data removed]",
            "text/plain": [
              "<Figure size 432x288 with 1 Axes>"
            ]
          },
          "metadata": {
            "tags": [],
            "needs_background": "light"
          }
        }
      ]
    },
    {
      "cell_type": "markdown",
      "metadata": {
        "id": "3n9uZ7XvrL4Y"
      },
      "source": [
        "Save the graph as an image"
      ]
    },
    {
      "cell_type": "code",
      "metadata": {
        "id": "vBsGzgdu2Xcx"
      },
      "source": [
        "#saves the figure\n",
        "least_consumption.savefig('least_consumption.png')"
      ],
      "execution_count": 110,
      "outputs": []
    },
    {
      "cell_type": "code",
      "metadata": {
        "colab": {
          "base_uri": "https://localhost:8080/",
          "height": 17
        },
        "id": "B-Ld-i-J7ZpW",
        "outputId": "c8990288-8f30-4384-8ec3-632b94c8240a"
      },
      "source": [
        "#downloads the figure as an image onto the computer\n",
        "files.download('least_consumption.png')"
      ],
      "execution_count": 111,
      "outputs": [
        {
          "output_type": "display_data",
          "data": {
            "application/javascript": [
              "\n",
              "    async function download(id, filename, size) {\n",
              "      if (!google.colab.kernel.accessAllowed) {\n",
              "        return;\n",
              "      }\n",
              "      const div = document.createElement('div');\n",
              "      const label = document.createElement('label');\n",
              "      label.textContent = `Downloading \"${filename}\": `;\n",
              "      div.appendChild(label);\n",
              "      const progress = document.createElement('progress');\n",
              "      progress.max = size;\n",
              "      div.appendChild(progress);\n",
              "      document.body.appendChild(div);\n",
              "\n",
              "      const buffers = [];\n",
              "      let downloaded = 0;\n",
              "\n",
              "      const channel = await google.colab.kernel.comms.open(id);\n",
              "      // Send a message to notify the kernel that we're ready.\n",
              "      channel.send({})\n",
              "\n",
              "      for await (const message of channel.messages) {\n",
              "        // Send a message to notify the kernel that we're ready.\n",
              "        channel.send({})\n",
              "        if (message.buffers) {\n",
              "          for (const buffer of message.buffers) {\n",
              "            buffers.push(buffer);\n",
              "            downloaded += buffer.byteLength;\n",
              "            progress.value = downloaded;\n",
              "          }\n",
              "        }\n",
              "      }\n",
              "      const blob = new Blob(buffers, {type: 'application/binary'});\n",
              "      const a = document.createElement('a');\n",
              "      a.href = window.URL.createObjectURL(blob);\n",
              "      a.download = filename;\n",
              "      div.appendChild(a);\n",
              "      a.click();\n",
              "      div.remove();\n",
              "    }\n",
              "  "
            ],
            "text/plain": [
              "<IPython.core.display.Javascript object>"
            ]
          },
          "metadata": {
            "tags": []
          }
        },
        {
          "output_type": "display_data",
          "data": {
            "application/javascript": [
              "download(\"download_fc6b4051-00d6-4aec-98d0-df291832a5fe\", \"least_consumption.png\", 29188)"
            ],
            "text/plain": [
              "<IPython.core.display.Javascript object>"
            ]
          },
          "metadata": {
            "tags": []
          }
        }
      ]
    },
    {
      "cell_type": "markdown",
      "metadata": {
        "id": "aadkqEuVrWdf"
      },
      "source": [
        "Graph the beef consumption from 1991 to 2026 for the three countries that consume the most amount of meat"
      ]
    },
    {
      "cell_type": "code",
      "metadata": {
        "colab": {
          "base_uri": "https://localhost:8080/",
          "height": 312
        },
        "id": "oVuHVhlV2hcd",
        "outputId": "4bc7803c-7176-4c66-88eb-7fab79649664"
      },
      "source": [
        "most_consumption = plt.figure() #This will be used later to save the image of the graph\n",
        "ax = plt.gca(title = \"Beef Consumption by Country from 1991 to 2026\") #This defines the axis in order to plot multiple lines\n",
        "df_beef_USA.plot(x = 'TIME', y = 'Value', kind='line', label ='United States', ax=ax) #USA beef consumption\n",
        "df_beef_AUS.plot(x = 'TIME', y='Value', kind='line', label = 'Australia', ax=ax) #AUS beef consumption\n",
        "df_beef_ISR.plot(x='TIME', y='Value', kind='line', label='Israel', ax=ax) #ISR beef consumption\n",
        "plt.xlabel('Year') #This labels the x axis\n",
        "plt.ylabel('Beef Consumption (kilogram/capita)') #This labels the y axis"
      ],
      "execution_count": 112,
      "outputs": [
        {
          "output_type": "execute_result",
          "data": {
            "text/plain": [
              "Text(0, 0.5, 'Beef Consumption (kilogram/capita)')"
            ]
          },
          "metadata": {
            "tags": []
          },
          "execution_count": 112
        },
        {
          "output_type": "display_data",
          "data": {
            "image/png": "[encoded data removed]",
            "text/plain": [
              "<Figure size 432x288 with 1 Axes>"
            ]
          },
          "metadata": {
            "tags": [],
            "needs_background": "light"
          }
        }
      ]
    },
    {
      "cell_type": "markdown",
      "metadata": {
        "id": "a25xX5L1r2o4"
      },
      "source": [
        "Save the graph as an image"
      ]
    },
    {
      "cell_type": "code",
      "metadata": {
        "id": "fDo42F3i2kkW"
      },
      "source": [
        "#saves the figure\n",
        "most_consumption.savefig('most_consumption.png')"
      ],
      "execution_count": 113,
      "outputs": []
    },
    {
      "cell_type": "code",
      "metadata": {
        "colab": {
          "base_uri": "https://localhost:8080/",
          "height": 17
        },
        "id": "leA5CYgh4K91",
        "outputId": "0a38ecb1-4685-44ad-a829-77d90cc12f30"
      },
      "source": [
        "#downloads the figure as an image onto the computer\n",
        "files.download('most_consumption.png')"
      ],
      "execution_count": 114,
      "outputs": [
        {
          "output_type": "display_data",
          "data": {
            "application/javascript": [
              "\n",
              "    async function download(id, filename, size) {\n",
              "      if (!google.colab.kernel.accessAllowed) {\n",
              "        return;\n",
              "      }\n",
              "      const div = document.createElement('div');\n",
              "      const label = document.createElement('label');\n",
              "      label.textContent = `Downloading \"${filename}\": `;\n",
              "      div.appendChild(label);\n",
              "      const progress = document.createElement('progress');\n",
              "      progress.max = size;\n",
              "      div.appendChild(progress);\n",
              "      document.body.appendChild(div);\n",
              "\n",
              "      const buffers = [];\n",
              "      let downloaded = 0;\n",
              "\n",
              "      const channel = await google.colab.kernel.comms.open(id);\n",
              "      // Send a message to notify the kernel that we're ready.\n",
              "      channel.send({})\n",
              "\n",
              "      for await (const message of channel.messages) {\n",
              "        // Send a message to notify the kernel that we're ready.\n",
              "        channel.send({})\n",
              "        if (message.buffers) {\n",
              "          for (const buffer of message.buffers) {\n",
              "            buffers.push(buffer);\n",
              "            downloaded += buffer.byteLength;\n",
              "            progress.value = downloaded;\n",
              "          }\n",
              "        }\n",
              "      }\n",
              "      const blob = new Blob(buffers, {type: 'application/binary'});\n",
              "      const a = document.createElement('a');\n",
              "      a.href = window.URL.createObjectURL(blob);\n",
              "      a.download = filename;\n",
              "      div.appendChild(a);\n",
              "      a.click();\n",
              "      div.remove();\n",
              "    }\n",
              "  "
            ],
            "text/plain": [
              "<IPython.core.display.Javascript object>"
            ]
          },
          "metadata": {
            "tags": []
          }
        },
        {
          "output_type": "display_data",
          "data": {
            "application/javascript": [
              "download(\"download_483c2d91-64f7-4067-bca5-a972ec2afe2b\", \"most_consumption.png\", 31255)"
            ],
            "text/plain": [
              "<IPython.core.display.Javascript object>"
            ]
          },
          "metadata": {
            "tags": []
          }
        }
      ]
    },
    {
      "cell_type": "markdown",
      "metadata": {
        "id": "z_YMSZxSsG-q"
      },
      "source": [
        "# Cardiovascular Disease Deaths Over Time"
      ]
    },
    {
      "cell_type": "markdown",
      "metadata": {
        "id": "x0XLypEusZE6"
      },
      "source": [
        "First we will import the data from this [github repository](https://github.com/shannonpowelson/global-meat-consumption-analysis/blob/main/cardiovascular-disease-death-rates.csv)"
      ]
    },
    {
      "cell_type": "code",
      "metadata": {
        "id": "HcGzqWEvSANj"
      },
      "source": [
        "#import csv of cardiovascular disease death rates data from our github repository (this data is originally from Our World in Data)\n",
        "#save the csv link\n",
        "heart = 'https://raw.githubusercontent.com/shannonpowelson/global-meat-consumption-analysis/main/cardiovascular-disease-death-rates.csv'"
      ],
      "execution_count": 115,
      "outputs": []
    },
    {
      "cell_type": "markdown",
      "metadata": {
        "id": "D2ImM3PMs6UM"
      },
      "source": [
        "Create the initial data frame"
      ]
    },
    {
      "cell_type": "code",
      "metadata": {
        "id": "J8VN3DVKU5ce"
      },
      "source": [
        "#Define the data frame\n",
        "df_heart = pd.read_csv(heart)"
      ],
      "execution_count": 116,
      "outputs": []
    },
    {
      "cell_type": "markdown",
      "metadata": {
        "id": "rU-sfosBtNkw"
      },
      "source": [
        "Create other data frames needed for the analysis"
      ]
    },
    {
      "cell_type": "code",
      "metadata": {
        "id": "rzf5-_KXVECg"
      },
      "source": [
        "#Make a new data frame containing the cardiovascular disease deaths for the USA\n",
        "df_heart_USA = df_heart[df_heart['Code']=='USA']"
      ],
      "execution_count": 117,
      "outputs": []
    },
    {
      "cell_type": "code",
      "metadata": {
        "id": "j28V_t3qWtGF"
      },
      "source": [
        "#Make a new data frame containing the cardiovascular disease deaths for Australia\n",
        "df_heart_AUS = df_heart[df_heart['Code']=='AUS']"
      ],
      "execution_count": 118,
      "outputs": []
    },
    {
      "cell_type": "code",
      "metadata": {
        "id": "CyOzOXQ3WvtM"
      },
      "source": [
        "#Make a new data frame containing the cardiovascular disease deaths for Israel\n",
        "df_heart_ISR = df_heart[df_heart['Code']=='ISR']"
      ],
      "execution_count": 119,
      "outputs": []
    },
    {
      "cell_type": "code",
      "metadata": {
        "id": "QlpZ-JpiWzpG"
      },
      "source": [
        "#Make a new data frame containing the cardiovascular disease deaths for India\n",
        "df_heart_IND = df_heart[df_heart['Code']=='IND']"
      ],
      "execution_count": 120,
      "outputs": []
    },
    {
      "cell_type": "code",
      "metadata": {
        "id": "TaEoAXRNW2Nd"
      },
      "source": [
        "#Make a new data frame containing the cardiovascular disease deaths for Mozambique\n",
        "df_heart_MOZ = df_heart[df_heart['Code']=='MOZ']"
      ],
      "execution_count": 121,
      "outputs": []
    },
    {
      "cell_type": "code",
      "metadata": {
        "id": "ExyHhYuiW5iI"
      },
      "source": [
        "#Make a new data frame containing the cardiovascular disease deaths for Bangladesh\n",
        "df_heart_BGD = df_heart[df_heart['Code']=='BGD']"
      ],
      "execution_count": 122,
      "outputs": []
    },
    {
      "cell_type": "markdown",
      "metadata": {
        "id": "lgNhs5kMt5d_"
      },
      "source": [
        "Graph the cardiovascular disease deaths from 1990 to 2017 for these six countries"
      ]
    },
    {
      "cell_type": "code",
      "metadata": {
        "colab": {
          "base_uri": "https://localhost:8080/",
          "height": 312
        },
        "id": "Z0-2UgQwXF_m",
        "outputId": "71337bce-b3c0-4348-ede1-79667db5679c"
      },
      "source": [
        "heart_death = plt.figure() #This will be used later to save the image of the graph \n",
        "ax = plt.gca(title ='Deaths from Cardiovascular Diseases from 1990 to 2017') #This defines the axis in order to plot multiple lines\n",
        "df_heart_USA.plot(x='Year', y='Deaths', kind='line', label='United States', ax=ax) #cardiovascular disease deaths in the USA\n",
        "df_heart_AUS.plot(x='Year', y='Deaths', kind='line', label='Australia', ax=ax) #cardiovascular disease deaths in Australia\n",
        "df_heart_ISR.plot(x='Year', y='Deaths', kind='line', label='Israel', ax=ax) #cardiovascular disease deaths in Israel\n",
        "df_heart_IND.plot(x='Year', y='Deaths', kind='line', label='India', ax=ax) #cardiovascular disease deaths in India\n",
        "df_heart_BGD.plot(x='Year', y='Deaths', kind='line', label='Bangladesh', ax=ax) #cardiovascular disease deaths in Bangladesh\n",
        "df_heart_MOZ.plot(x='Year', y='Deaths', kind='line', label='Mozambique', ax=ax) #cardiovascular disease deaths in Mozambique\n",
        "plt.xlabel('Year') #This labels the x axis\n",
        "plt.ylabel('Deaths per 100,000 People') #This labels the y axis"
      ],
      "execution_count": 123,
      "outputs": [
        {
          "output_type": "execute_result",
          "data": {
            "text/plain": [
              "Text(0, 0.5, 'Deaths per 100,000 People')"
            ]
          },
          "metadata": {
            "tags": []
          },
          "execution_count": 123
        },
        {
          "output_type": "display_data",
          "data": {
            "image/png": "[encoded data removed]",
            "text/plain": [
              "<Figure size 432x288 with 1 Axes>"
            ]
          },
          "metadata": {
            "tags": [],
            "needs_background": "light"
          }
        }
      ]
    },
    {
      "cell_type": "markdown",
      "metadata": {
        "id": "UYbaoaYAunHo"
      },
      "source": [
        "Save the graph as an image"
      ]
    },
    {
      "cell_type": "code",
      "metadata": {
        "id": "Ya0Hdm3pXquB"
      },
      "source": [
        "#saves the figure\n",
        "heart_death.savefig('heart_death.png')"
      ],
      "execution_count": 124,
      "outputs": []
    },
    {
      "cell_type": "code",
      "metadata": {
        "colab": {
          "base_uri": "https://localhost:8080/",
          "height": 17
        },
        "id": "JN-D2_ujALbM",
        "outputId": "94e47d6d-bb1f-4677-d5a3-ba71cde86819"
      },
      "source": [
        "#downloads the figure as an image onto the computer\n",
        "files.download('heart_death.png')"
      ],
      "execution_count": 125,
      "outputs": [
        {
          "output_type": "display_data",
          "data": {
            "application/javascript": [
              "\n",
              "    async function download(id, filename, size) {\n",
              "      if (!google.colab.kernel.accessAllowed) {\n",
              "        return;\n",
              "      }\n",
              "      const div = document.createElement('div');\n",
              "      const label = document.createElement('label');\n",
              "      label.textContent = `Downloading \"${filename}\": `;\n",
              "      div.appendChild(label);\n",
              "      const progress = document.createElement('progress');\n",
              "      progress.max = size;\n",
              "      div.appendChild(progress);\n",
              "      document.body.appendChild(div);\n",
              "\n",
              "      const buffers = [];\n",
              "      let downloaded = 0;\n",
              "\n",
              "      const channel = await google.colab.kernel.comms.open(id);\n",
              "      // Send a message to notify the kernel that we're ready.\n",
              "      channel.send({})\n",
              "\n",
              "      for await (const message of channel.messages) {\n",
              "        // Send a message to notify the kernel that we're ready.\n",
              "        channel.send({})\n",
              "        if (message.buffers) {\n",
              "          for (const buffer of message.buffers) {\n",
              "            buffers.push(buffer);\n",
              "            downloaded += buffer.byteLength;\n",
              "            progress.value = downloaded;\n",
              "          }\n",
              "        }\n",
              "      }\n",
              "      const blob = new Blob(buffers, {type: 'application/binary'});\n",
              "      const a = document.createElement('a');\n",
              "      a.href = window.URL.createObjectURL(blob);\n",
              "      a.download = filename;\n",
              "      div.appendChild(a);\n",
              "      a.click();\n",
              "      div.remove();\n",
              "    }\n",
              "  "
            ],
            "text/plain": [
              "<IPython.core.display.Javascript object>"
            ]
          },
          "metadata": {
            "tags": []
          }
        },
        {
          "output_type": "display_data",
          "data": {
            "application/javascript": [
              "download(\"download_8148d11e-51ed-4a80-907b-2dc85a904bdf\", \"heart_death.png\", 37411)"
            ],
            "text/plain": [
              "<IPython.core.display.Javascript object>"
            ]
          },
          "metadata": {
            "tags": []
          }
        }
      ]
    },
    {
      "cell_type": "markdown",
      "metadata": {
        "id": "QB2Pn1jFu0W6"
      },
      "source": [
        "Graph the cardiovascular disease deaths from 1990 to 2017 for the three countries that consume the most amount of meat"
      ]
    },
    {
      "cell_type": "code",
      "metadata": {
        "colab": {
          "base_uri": "https://localhost:8080/",
          "height": 312
        },
        "id": "N6nTtV15ZLXX",
        "outputId": "f937ed28-e6ba-4111-9b2f-11bb0c43f4d1"
      },
      "source": [
        "heart_death_high = plt.figure() #This will be used later to save the image of the graph\n",
        "ax = plt.gca(title ='Deaths from Cardiovascular Diseases from 1990 to 2017') #This defines the axis in order to plot multiple lines\n",
        "df_heart_USA.plot(x='Year', y='Deaths', kind='line', label='United States', ax=ax) #cardiovascular disease deaths in the USA\n",
        "df_heart_AUS.plot(x='Year', y='Deaths', kind='line', label='Australia', ax=ax) #cardiovascular disease deaths in Australia\n",
        "df_heart_ISR.plot(x='Year', y='Deaths', kind='line', label='Israel', ax=ax) #cardiovascular disease deaths in Israel\n",
        "plt.xlabel('Year') #This labels the x axis\n",
        "plt.ylabel('Deaths per 100,000 People') #This labels the y axis"
      ],
      "execution_count": 126,
      "outputs": [
        {
          "output_type": "execute_result",
          "data": {
            "text/plain": [
              "Text(0, 0.5, 'Deaths per 100,000 People')"
            ]
          },
          "metadata": {
            "tags": []
          },
          "execution_count": 126
        },
        {
          "output_type": "display_data",
          "data": {
            "image/png": "[encoded data removed]",
            "text/plain": [
              "<Figure size 432x288 with 1 Axes>"
            ]
          },
          "metadata": {
            "tags": [],
            "needs_background": "light"
          }
        }
      ]
    },
    {
      "cell_type": "markdown",
      "metadata": {
        "id": "fCKUq4ZTvY1n"
      },
      "source": [
        "Save the graph as an image"
      ]
    },
    {
      "cell_type": "code",
      "metadata": {
        "id": "evU9jJZSZOUd"
      },
      "source": [
        "#saves the figure\n",
        "heart_death_high.savefig('heart_death_high.png')"
      ],
      "execution_count": 127,
      "outputs": []
    },
    {
      "cell_type": "code",
      "metadata": {
        "colab": {
          "base_uri": "https://localhost:8080/",
          "height": 17
        },
        "id": "__iERqYYAj17",
        "outputId": "884ca4ad-eae0-4372-8165-08de42a54161"
      },
      "source": [
        "#downloads the figure as an image onto the computer\n",
        "files.download('heart_death_high.png')"
      ],
      "execution_count": 128,
      "outputs": [
        {
          "output_type": "display_data",
          "data": {
            "application/javascript": [
              "\n",
              "    async function download(id, filename, size) {\n",
              "      if (!google.colab.kernel.accessAllowed) {\n",
              "        return;\n",
              "      }\n",
              "      const div = document.createElement('div');\n",
              "      const label = document.createElement('label');\n",
              "      label.textContent = `Downloading \"${filename}\": `;\n",
              "      div.appendChild(label);\n",
              "      const progress = document.createElement('progress');\n",
              "      progress.max = size;\n",
              "      div.appendChild(progress);\n",
              "      document.body.appendChild(div);\n",
              "\n",
              "      const buffers = [];\n",
              "      let downloaded = 0;\n",
              "\n",
              "      const channel = await google.colab.kernel.comms.open(id);\n",
              "      // Send a message to notify the kernel that we're ready.\n",
              "      channel.send({})\n",
              "\n",
              "      for await (const message of channel.messages) {\n",
              "        // Send a message to notify the kernel that we're ready.\n",
              "        channel.send({})\n",
              "        if (message.buffers) {\n",
              "          for (const buffer of message.buffers) {\n",
              "            buffers.push(buffer);\n",
              "            downloaded += buffer.byteLength;\n",
              "            progress.value = downloaded;\n",
              "          }\n",
              "        }\n",
              "      }\n",
              "      const blob = new Blob(buffers, {type: 'application/binary'});\n",
              "      const a = document.createElement('a');\n",
              "      a.href = window.URL.createObjectURL(blob);\n",
              "      a.download = filename;\n",
              "      div.appendChild(a);\n",
              "      a.click();\n",
              "      div.remove();\n",
              "    }\n",
              "  "
            ],
            "text/plain": [
              "<IPython.core.display.Javascript object>"
            ]
          },
          "metadata": {
            "tags": []
          }
        },
        {
          "output_type": "display_data",
          "data": {
            "application/javascript": [
              "download(\"download_f73760bf-aa5f-4425-98a5-8447dc75ed4e\", \"heart_death_high.png\", 29154)"
            ],
            "text/plain": [
              "<IPython.core.display.Javascript object>"
            ]
          },
          "metadata": {
            "tags": []
          }
        }
      ]
    },
    {
      "cell_type": "markdown",
      "metadata": {
        "id": "0uJ2YAzdvjiF"
      },
      "source": [
        "Graph the cardiovascular disease deaths from 1990 to 2017 for the three countries that consume the least amount of meat"
      ]
    },
    {
      "cell_type": "code",
      "metadata": {
        "colab": {
          "base_uri": "https://localhost:8080/",
          "height": 312
        },
        "id": "xQEqwa62ZUhs",
        "outputId": "4c9f3554-0496-47ae-bce2-386f607e7f5c"
      },
      "source": [
        "heart_death_low = plt.figure() #This will be used later to save the image of the graph\n",
        "ax = plt.gca(title ='Deaths from Cardiovascular Diseases from 1990 to 2017') #This defines the axis in order to plot multiple lines\n",
        "df_heart_IND.plot(x='Year', y='Deaths', kind='line', label='India', ax=ax) #cardiovascular disease deaths in India\n",
        "df_heart_BGD.plot(x='Year', y='Deaths', kind='line', label='Bangladesh', ax=ax) #cardiovascular disease deaths in Bangladesh\n",
        "df_heart_MOZ.plot(x='Year', y='Deaths', kind='line', label='Mozambique', ax=ax) #cardiovascular disease deaths in Mozambique\n",
        "plt.xlabel('Year') #This labels the x axis\n",
        "plt.ylabel('Deaths per 100,000 People') #This labels the y axis"
      ],
      "execution_count": 129,
      "outputs": [
        {
          "output_type": "execute_result",
          "data": {
            "text/plain": [
              "Text(0, 0.5, 'Deaths per 100,000 People')"
            ]
          },
          "metadata": {
            "tags": []
          },
          "execution_count": 129
        },
        {
          "output_type": "display_data",
          "data": {
            "image/png": "[encoded data removed]",
            "text/plain": [
              "<Figure size 432x288 with 1 Axes>"
            ]
          },
          "metadata": {
            "tags": [],
            "needs_background": "light"
          }
        }
      ]
    },
    {
      "cell_type": "markdown",
      "metadata": {
        "id": "Bcrp64_dwKEW"
      },
      "source": [
        "Save the graph as an image"
      ]
    },
    {
      "cell_type": "code",
      "metadata": {
        "id": "0kCxUzSwA0dk"
      },
      "source": [
        "#saves the figure\n",
        "heart_death_low.savefig('heart_death_low.png')"
      ],
      "execution_count": 130,
      "outputs": []
    },
    {
      "cell_type": "code",
      "metadata": {
        "colab": {
          "base_uri": "https://localhost:8080/",
          "height": 17
        },
        "id": "VC-K-oZcBEbx",
        "outputId": "40d1ab41-b4e5-4848-fbfd-5d7d21f5ab2b"
      },
      "source": [
        "#downloads the figure as an image onto the computer\n",
        "files.download('heart_death_low.png')"
      ],
      "execution_count": 131,
      "outputs": [
        {
          "output_type": "display_data",
          "data": {
            "application/javascript": [
              "\n",
              "    async function download(id, filename, size) {\n",
              "      if (!google.colab.kernel.accessAllowed) {\n",
              "        return;\n",
              "      }\n",
              "      const div = document.createElement('div');\n",
              "      const label = document.createElement('label');\n",
              "      label.textContent = `Downloading \"${filename}\": `;\n",
              "      div.appendChild(label);\n",
              "      const progress = document.createElement('progress');\n",
              "      progress.max = size;\n",
              "      div.appendChild(progress);\n",
              "      document.body.appendChild(div);\n",
              "\n",
              "      const buffers = [];\n",
              "      let downloaded = 0;\n",
              "\n",
              "      const channel = await google.colab.kernel.comms.open(id);\n",
              "      // Send a message to notify the kernel that we're ready.\n",
              "      channel.send({})\n",
              "\n",
              "      for await (const message of channel.messages) {\n",
              "        // Send a message to notify the kernel that we're ready.\n",
              "        channel.send({})\n",
              "        if (message.buffers) {\n",
              "          for (const buffer of message.buffers) {\n",
              "            buffers.push(buffer);\n",
              "            downloaded += buffer.byteLength;\n",
              "            progress.value = downloaded;\n",
              "          }\n",
              "        }\n",
              "      }\n",
              "      const blob = new Blob(buffers, {type: 'application/binary'});\n",
              "      const a = document.createElement('a');\n",
              "      a.href = window.URL.createObjectURL(blob);\n",
              "      a.download = filename;\n",
              "      div.appendChild(a);\n",
              "      a.click();\n",
              "      div.remove();\n",
              "    }\n",
              "  "
            ],
            "text/plain": [
              "<IPython.core.display.Javascript object>"
            ]
          },
          "metadata": {
            "tags": []
          }
        },
        {
          "output_type": "display_data",
          "data": {
            "application/javascript": [
              "download(\"download_491b8aaa-03e7-4f89-838b-163254289ed0\", \"heart_death_low.png\", 30696)"
            ],
            "text/plain": [
              "<IPython.core.display.Javascript object>"
            ]
          },
          "metadata": {
            "tags": []
          }
        }
      ]
    },
    {
      "cell_type": "markdown",
      "metadata": {
        "id": "Lgt45ZnnwXQD"
      },
      "source": [
        "# Meat Consumption Over Time"
      ]
    },
    {
      "cell_type": "markdown",
      "metadata": {
        "id": "DIrXNfPSwlA9"
      },
      "source": [
        "Import data from this [github repository](https://github.com/shannonpowelson/global-meat-consumption-analysis/blob/main/Meat_Consumption__India.csv)"
      ]
    },
    {
      "cell_type": "code",
      "metadata": {
        "id": "e7U344XodGir"
      },
      "source": [
        "#import csv of meat consumption in India data from our github repository (this data is originally from Kaggle)\n",
        "#save the csv link\n",
        "IND_meat = 'https://raw.githubusercontent.com/shannonpowelson/global-meat-consumption-analysis/main/Meat_Consumption__India.csv'"
      ],
      "execution_count": 133,
      "outputs": []
    },
    {
      "cell_type": "markdown",
      "metadata": {
        "id": "g_GZr1IGxJp1"
      },
      "source": [
        "Create the initial data frame"
      ]
    },
    {
      "cell_type": "code",
      "metadata": {
        "id": "0yKeepoGdHEu"
      },
      "source": [
        "df_IND_meat = pd.read_csv(IND_meat)"
      ],
      "execution_count": 134,
      "outputs": []
    },
    {
      "cell_type": "markdown",
      "metadata": {
        "id": "yMl3F3m0xOla"
      },
      "source": [
        "Melt the data frame for plotly express"
      ]
    },
    {
      "cell_type": "code",
      "metadata": {
        "id": "-YHKjk-WdHdr"
      },
      "source": [
        "#melt the data frame\n",
        "df_IND_melt = pd.melt(df_IND_meat, id_vars=['Year'])"
      ],
      "execution_count": 135,
      "outputs": []
    },
    {
      "cell_type": "markdown",
      "metadata": {
        "id": "TXDNk-Otxi86"
      },
      "source": [
        "Graph the meat consumption in India from 1990 to 2026"
      ]
    },
    {
      "cell_type": "code",
      "metadata": {
        "id": "jjhIpS4nhppd"
      },
      "source": [
        "#Create a trendline using plotly express\n",
        "IND_trend_line = px.line(df_IND_melt, x='Year', y='value', color = 'variable', title = 'Meat Consumption in India from 1990 to 2026', labels={'Year':'Year', 'value':'Meat Consumption (kilogram/capita)', 'variable':'Meat Type'})"
      ],
      "execution_count": 137,
      "outputs": []
    },
    {
      "cell_type": "code",
      "metadata": {
        "colab": {
          "base_uri": "https://localhost:8080/",
          "height": 542
        },
        "id": "rIeosctheYwq",
        "outputId": "879a43b7-3ff9-4d3f-d59e-968c42c4ebca"
      },
      "source": [
        "#Plot the trendline\n",
        "IND_trend_line"
      ],
      "execution_count": 138,
      "outputs": [
        {
          "output_type": "display_data",
          "data": {
            "text/html": [
              "<html>\n",
              "<head><meta charset=\"utf-8\" /></head>\n",
              "<body>\n",
              "    <div>\n",
              "            <script src=\"https://cdnjs.cloudflare.com/ajax/libs/mathjax/2.7.5/MathJax.js?config=TeX-AMS-MML_SVG\"></script><script type=\"text/javascript\">if (window.MathJax) {MathJax.Hub.Config({SVG: {font: \"STIX-Web\"}});}</script>\n",
              "                <script type=\"text/javascript\">window.PlotlyConfig = {MathJaxConfig: 'local'};</script>\n",
              "        <script src=\"https://cdn.plot.ly/plotly-latest.min.js\"></script>    \n",
              "            <div id=\"2b2cb1a7-87f5-4597-b116-cd9b6bb240cc\" class=\"plotly-graph-div\" style=\"height:525px; width:100%;\"></div>\n",
              "            <script type=\"text/javascript\">\n",
              "                \n",
              "                    window.PLOTLYENV=window.PLOTLYENV || {};\n",
              "                    \n",
              "                if (document.getElementById(\"2b2cb1a7-87f5-4597-b116-cd9b6bb240cc\")) {\n",
              "                    Plotly.newPlot(\n",
              "                        '2b2cb1a7-87f5-4597-b116-cd9b6bb240cc',\n",
              "                        [{\"hoverlabel\": {\"namelength\": 0}, \"hovertemplate\": \"Meat Type=Beef<br>Year=%{x}<br>Meat Consumption (kilogram/capita)=%{y}\", \"legendgroup\": \"Meat Type=Beef\", \"line\": {\"color\": \"#636efa\", \"dash\": \"solid\"}, \"mode\": \"lines\", \"name\": \"Meat Type=Beef\", \"showlegend\": true, \"type\": \"scatter\", \"x\": [1990, 1991, 1992, 1993, 1994, 1995, 1996, 1997, 1998, 1999, 2000, 2001, 2002, 2003, 2004, 2005, 2006, 2007, 2008, 2009, 2010, 2011, 2012, 2013, 2014, 2015, 2016, 2017, 2018, 2019, 2020, 2021, 2022, 2023, 2024, 2025, 2026], \"xaxis\": \"x\", \"y\": [1.64908921, 1.62214688, 1.61551288, 1.57570406, 1.5416863, 1.48687406, 1.46749111, 1.43463144, 1.42699316, 1.39529721, 1.29503996, 1.30610638, 1.25271823, 1.17596154, 1.15214651, 1.08579164, 1.0601604, 1.06748779, 1.06309556, 1.09135188, 0.93372412, 0.74913062, 0.66698869, 0.45408396, 0.37180825, 0.50829471, 0.51967074, 0.52630408, 0.52645751, 0.52322037, 0.52190393, 0.52345598, 0.52505964, 0.52565721, 0.52524451, 0.52589677, 0.52899637], \"yaxis\": \"y\"}, {\"hoverlabel\": {\"namelength\": 0}, \"hovertemplate\": \"Meat Type=Pig<br>Year=%{x}<br>Meat Consumption (kilogram/capita)=%{y}\", \"legendgroup\": \"Meat Type=Pig\", \"line\": {\"color\": \"#EF553B\", \"dash\": \"solid\"}, \"mode\": \"lines\", \"name\": \"Meat Type=Pig\", \"showlegend\": true, \"type\": \"scatter\", \"x\": [1990, 1991, 1992, 1993, 1994, 1995, 1996, 1997, 1998, 1999, 2000, 2001, 2002, 2003, 2004, 2005, 2006, 2007, 2008, 2009, 2010, 2011, 2012, 2013, 2014, 2015, 2016, 2017, 2018, 2019, 2020, 2021, 2022, 2023, 2024, 2025, 2026], \"xaxis\": \"x\", \"y\": [0.37001992, 0.37485065, 0.3820571, 0.37798725, 0.37320012, 0.36853909999999995, 0.44444425, 0.36349342, 0.35531185, 0.3504427, 0.34502756, 0.33910253, 0.33484091, 0.33075609999999994, 0.30675965, 0.2896901, 0.271167, 0.25455934, 0.24760455, 0.24347252, 0.23444649, 0.22760103, 0.22098947, 0.21641285, 0.21437645, 0.2129895, 0.20987313, 0.20849904, 0.21483932, 0.2170522, 0.22047245, 0.22322644, 0.22607632, 0.22909687, 0.23230275, 0.23507979999999998, 0.23793157], \"yaxis\": \"y\"}, {\"hoverlabel\": {\"namelength\": 0}, \"hovertemplate\": \"Meat Type=Poultry<br>Year=%{x}<br>Meat Consumption (kilogram/capita)=%{y}\", \"legendgroup\": \"Meat Type=Poultry\", \"line\": {\"color\": \"#00cc96\", \"dash\": \"solid\"}, \"mode\": \"lines\", \"name\": \"Meat Type=Poultry\", \"showlegend\": true, \"type\": \"scatter\", \"x\": [1990, 1991, 1992, 1993, 1994, 1995, 1996, 1997, 1998, 1999, 2000, 2001, 2002, 2003, 2004, 2005, 2006, 2007, 2008, 2009, 2010, 2011, 2012, 2013, 2014, 2015, 2016, 2017, 2018, 2019, 2020, 2021, 2022, 2023, 2024, 2025, 2026], \"xaxis\": \"x\", \"y\": [0.39623167, 0.51798854, 0.52423636, 0.57874971, 0.58348986, 0.58796411, 0.59218387, 0.58648014, 0.63895921, 0.6887112, 0.75513459, 0.79060485, 0.90971352, 0.98609707, 1.04685704, 1.10737646, 1.17677805, 1.33452503, 1.40924077, 1.53650748, 1.58845217, 1.59218113, 1.60387513, 1.61763332, 1.72359653, 1.784096, 1.90020877, 1.95750866, 2.00099968, 2.04053162, 2.07649514, 2.11416671, 2.15099952, 2.19124651, 2.22842892, 2.26759785, 2.30230694], \"yaxis\": \"y\"}, {\"hoverlabel\": {\"namelength\": 0}, \"hovertemplate\": \"Meat Type=Sheep<br>Year=%{x}<br>Meat Consumption (kilogram/capita)=%{y}\", \"legendgroup\": \"Meat Type=Sheep\", \"line\": {\"color\": \"#ab63fa\", \"dash\": \"solid\"}, \"mode\": \"lines\", \"name\": \"Meat Type=Sheep\", \"showlegend\": true, \"type\": \"scatter\", \"x\": [1990, 1991, 1992, 1993, 1994, 1995, 1996, 1997, 1998, 1999, 2000, 2001, 2002, 2003, 2004, 2005, 2006, 2007, 2008, 2009, 2010, 2011, 2012, 2013, 2014, 2015, 2016, 2017, 2018, 2019, 2020, 2021, 2022, 2023, 2024, 2025, 2026], \"xaxis\": \"x\", \"y\": [0.60950944, 0.60514531, 0.60093019, 0.59397996, 0.58442345, 0.59895409, 0.59577831, 0.59265362, 0.58787711, 0.57987783, 0.5713629, 0.57140288, 0.57956904, 0.54544983, 0.54374067, 0.53907701, 0.58005919, 0.59080147, 0.5682541, 0.51820889, 0.54330497, 0.53119734, 0.51744647, 0.50000826, 0.48779752, 0.47522196, 0.46891714, 0.46482592, 0.4625393, 0.46021907, 0.45741242, 0.4547437, 0.45220831, 0.44993654, 0.44778464, 0.44580283, 0.44400082], \"yaxis\": \"y\"}],\n",
              "                        {\"legend\": {\"tracegroupgap\": 0}, \"template\": {\"data\": {\"bar\": [{\"error_x\": {\"color\": \"#2a3f5f\"}, \"error_y\": {\"color\": \"#2a3f5f\"}, \"marker\": {\"line\": {\"color\": \"#E5ECF6\", \"width\": 0.5}}, \"type\": \"bar\"}], \"barpolar\": [{\"marker\": {\"line\": {\"color\": \"#E5ECF6\", \"width\": 0.5}}, \"type\": \"barpolar\"}], \"carpet\": [{\"aaxis\": {\"endlinecolor\": \"#2a3f5f\", \"gridcolor\": \"white\", \"linecolor\": \"white\", \"minorgridcolor\": \"white\", \"startlinecolor\": \"#2a3f5f\"}, \"baxis\": {\"endlinecolor\": \"#2a3f5f\", \"gridcolor\": \"white\", \"linecolor\": \"white\", \"minorgridcolor\": \"white\", \"startlinecolor\": \"#2a3f5f\"}, \"type\": \"carpet\"}], \"choropleth\": [{\"colorbar\": {\"outlinewidth\": 0, \"ticks\": \"\"}, \"type\": \"choropleth\"}], \"contour\": [{\"colorbar\": {\"outlinewidth\": 0, \"ticks\": \"\"}, \"colorscale\": [[0.0, \"#0d0887\"], [0.1111111111111111, \"#46039f\"], [0.2222222222222222, \"#7201a8\"], [0.3333333333333333, \"#9c179e\"], [0.4444444444444444, \"#bd3786\"], [0.5555555555555556, \"#d8576b\"], [0.6666666666666666, \"#ed7953\"], [0.7777777777777778, \"#fb9f3a\"], [0.8888888888888888, \"#fdca26\"], [1.0, \"#f0f921\"]], \"type\": \"contour\"}], \"contourcarpet\": [{\"colorbar\": {\"outlinewidth\": 0, \"ticks\": \"\"}, \"type\": \"contourcarpet\"}], \"heatmap\": [{\"colorbar\": {\"outlinewidth\": 0, \"ticks\": \"\"}, \"colorscale\": [[0.0, \"#0d0887\"], [0.1111111111111111, \"#46039f\"], [0.2222222222222222, \"#7201a8\"], [0.3333333333333333, \"#9c179e\"], [0.4444444444444444, \"#bd3786\"], [0.5555555555555556, \"#d8576b\"], [0.6666666666666666, \"#ed7953\"], [0.7777777777777778, \"#fb9f3a\"], [0.8888888888888888, \"#fdca26\"], [1.0, \"#f0f921\"]], \"type\": \"heatmap\"}], \"heatmapgl\": [{\"colorbar\": {\"outlinewidth\": 0, \"ticks\": \"\"}, \"colorscale\": [[0.0, \"#0d0887\"], [0.1111111111111111, \"#46039f\"], [0.2222222222222222, \"#7201a8\"], [0.3333333333333333, \"#9c179e\"], [0.4444444444444444, \"#bd3786\"], [0.5555555555555556, \"#d8576b\"], [0.6666666666666666, \"#ed7953\"], [0.7777777777777778, \"#fb9f3a\"], [0.8888888888888888, \"#fdca26\"], [1.0, \"#f0f921\"]], \"type\": \"heatmapgl\"}], \"histogram\": [{\"marker\": {\"colorbar\": {\"outlinewidth\": 0, \"ticks\": \"\"}}, \"type\": \"histogram\"}], \"histogram2d\": [{\"colorbar\": {\"outlinewidth\": 0, \"ticks\": \"\"}, \"colorscale\": [[0.0, \"#0d0887\"], [0.1111111111111111, \"#46039f\"], [0.2222222222222222, \"#7201a8\"], [0.3333333333333333, \"#9c179e\"], [0.4444444444444444, \"#bd3786\"], [0.5555555555555556, \"#d8576b\"], [0.6666666666666666, \"#ed7953\"], [0.7777777777777778, \"#fb9f3a\"], [0.8888888888888888, \"#fdca26\"], [1.0, \"#f0f921\"]], \"type\": \"histogram2d\"}], \"histogram2dcontour\": [{\"colorbar\": {\"outlinewidth\": 0, \"ticks\": \"\"}, \"colorscale\": [[0.0, \"#0d0887\"], [0.1111111111111111, \"#46039f\"], [0.2222222222222222, \"#7201a8\"], [0.3333333333333333, \"#9c179e\"], [0.4444444444444444, \"#bd3786\"], [0.5555555555555556, \"#d8576b\"], [0.6666666666666666, \"#ed7953\"], [0.7777777777777778, \"#fb9f3a\"], [0.8888888888888888, \"#fdca26\"], [1.0, \"#f0f921\"]], \"type\": \"histogram2dcontour\"}], \"mesh3d\": [{\"colorbar\": {\"outlinewidth\": 0, \"ticks\": \"\"}, \"type\": \"mesh3d\"}], \"parcoords\": [{\"line\": {\"colorbar\": {\"outlinewidth\": 0, \"ticks\": \"\"}}, \"type\": \"parcoords\"}], \"pie\": [{\"automargin\": true, \"type\": \"pie\"}], \"scatter\": [{\"marker\": {\"colorbar\": {\"outlinewidth\": 0, \"ticks\": \"\"}}, \"type\": \"scatter\"}], \"scatter3d\": [{\"line\": {\"colorbar\": {\"outlinewidth\": 0, \"ticks\": \"\"}}, \"marker\": {\"colorbar\": {\"outlinewidth\": 0, \"ticks\": \"\"}}, \"type\": \"scatter3d\"}], \"scattercarpet\": [{\"marker\": {\"colorbar\": {\"outlinewidth\": 0, \"ticks\": \"\"}}, \"type\": \"scattercarpet\"}], \"scattergeo\": [{\"marker\": {\"colorbar\": {\"outlinewidth\": 0, \"ticks\": \"\"}}, \"type\": \"scattergeo\"}], \"scattergl\": [{\"marker\": {\"colorbar\": {\"outlinewidth\": 0, \"ticks\": \"\"}}, \"type\": \"scattergl\"}], \"scattermapbox\": [{\"marker\": {\"colorbar\": {\"outlinewidth\": 0, \"ticks\": \"\"}}, \"type\": \"scattermapbox\"}], \"scatterpolar\": [{\"marker\": {\"colorbar\": {\"outlinewidth\": 0, \"ticks\": \"\"}}, \"type\": \"scatterpolar\"}], \"scatterpolargl\": [{\"marker\": {\"colorbar\": {\"outlinewidth\": 0, \"ticks\": \"\"}}, \"type\": \"scatterpolargl\"}], \"scatterternary\": [{\"marker\": {\"colorbar\": {\"outlinewidth\": 0, \"ticks\": \"\"}}, \"type\": \"scatterternary\"}], \"surface\": [{\"colorbar\": {\"outlinewidth\": 0, \"ticks\": \"\"}, \"colorscale\": [[0.0, \"#0d0887\"], [0.1111111111111111, \"#46039f\"], [0.2222222222222222, \"#7201a8\"], [0.3333333333333333, \"#9c179e\"], [0.4444444444444444, \"#bd3786\"], [0.5555555555555556, \"#d8576b\"], [0.6666666666666666, \"#ed7953\"], [0.7777777777777778, \"#fb9f3a\"], [0.8888888888888888, \"#fdca26\"], [1.0, \"#f0f921\"]], \"type\": \"surface\"}], \"table\": [{\"cells\": {\"fill\": {\"color\": \"#EBF0F8\"}, \"line\": {\"color\": \"white\"}}, \"header\": {\"fill\": {\"color\": \"#C8D4E3\"}, \"line\": {\"color\": \"white\"}}, \"type\": \"table\"}]}, \"layout\": {\"annotationdefaults\": {\"arrowcolor\": \"#2a3f5f\", \"arrowhead\": 0, \"arrowwidth\": 1}, \"coloraxis\": {\"colorbar\": {\"outlinewidth\": 0, \"ticks\": \"\"}}, \"colorscale\": {\"diverging\": [[0, \"#8e0152\"], [0.1, \"#c51b7d\"], [0.2, \"#de77ae\"], [0.3, \"#f1b6da\"], [0.4, \"#fde0ef\"], [0.5, \"#f7f7f7\"], [0.6, \"#e6f5d0\"], [0.7, \"#b8e186\"], [0.8, \"#7fbc41\"], [0.9, \"#4d9221\"], [1, \"#276419\"]], \"sequential\": [[0.0, \"#0d0887\"], [0.1111111111111111, \"#46039f\"], [0.2222222222222222, \"#7201a8\"], [0.3333333333333333, \"#9c179e\"], [0.4444444444444444, \"#bd3786\"], [0.5555555555555556, \"#d8576b\"], [0.6666666666666666, \"#ed7953\"], [0.7777777777777778, \"#fb9f3a\"], [0.8888888888888888, \"#fdca26\"], [1.0, \"#f0f921\"]], \"sequentialminus\": [[0.0, \"#0d0887\"], [0.1111111111111111, \"#46039f\"], [0.2222222222222222, \"#7201a8\"], [0.3333333333333333, \"#9c179e\"], [0.4444444444444444, \"#bd3786\"], [0.5555555555555556, \"#d8576b\"], [0.6666666666666666, \"#ed7953\"], [0.7777777777777778, \"#fb9f3a\"], [0.8888888888888888, \"#fdca26\"], [1.0, \"#f0f921\"]]}, \"colorway\": [\"#636efa\", \"#EF553B\", \"#00cc96\", \"#ab63fa\", \"#FFA15A\", \"#19d3f3\", \"#FF6692\", \"#B6E880\", \"#FF97FF\", \"#FECB52\"], \"font\": {\"color\": \"#2a3f5f\"}, \"geo\": {\"bgcolor\": \"white\", \"lakecolor\": \"white\", \"landcolor\": \"#E5ECF6\", \"showlakes\": true, \"showland\": true, \"subunitcolor\": \"white\"}, \"hoverlabel\": {\"align\": \"left\"}, \"hovermode\": \"closest\", \"mapbox\": {\"style\": \"light\"}, \"paper_bgcolor\": \"white\", \"plot_bgcolor\": \"#E5ECF6\", \"polar\": {\"angularaxis\": {\"gridcolor\": \"white\", \"linecolor\": \"white\", \"ticks\": \"\"}, \"bgcolor\": \"#E5ECF6\", \"radialaxis\": {\"gridcolor\": \"white\", \"linecolor\": \"white\", \"ticks\": \"\"}}, \"scene\": {\"xaxis\": {\"backgroundcolor\": \"#E5ECF6\", \"gridcolor\": \"white\", \"gridwidth\": 2, \"linecolor\": \"white\", \"showbackground\": true, \"ticks\": \"\", \"zerolinecolor\": \"white\"}, \"yaxis\": {\"backgroundcolor\": \"#E5ECF6\", \"gridcolor\": \"white\", \"gridwidth\": 2, \"linecolor\": \"white\", \"showbackground\": true, \"ticks\": \"\", \"zerolinecolor\": \"white\"}, \"zaxis\": {\"backgroundcolor\": \"#E5ECF6\", \"gridcolor\": \"white\", \"gridwidth\": 2, \"linecolor\": \"white\", \"showbackground\": true, \"ticks\": \"\", \"zerolinecolor\": \"white\"}}, \"shapedefaults\": {\"line\": {\"color\": \"#2a3f5f\"}}, \"ternary\": {\"aaxis\": {\"gridcolor\": \"white\", \"linecolor\": \"white\", \"ticks\": \"\"}, \"baxis\": {\"gridcolor\": \"white\", \"linecolor\": \"white\", \"ticks\": \"\"}, \"bgcolor\": \"#E5ECF6\", \"caxis\": {\"gridcolor\": \"white\", \"linecolor\": \"white\", \"ticks\": \"\"}}, \"title\": {\"x\": 0.05}, \"xaxis\": {\"automargin\": true, \"gridcolor\": \"white\", \"linecolor\": \"white\", \"ticks\": \"\", \"title\": {\"standoff\": 15}, \"zerolinecolor\": \"white\", \"zerolinewidth\": 2}, \"yaxis\": {\"automargin\": true, \"gridcolor\": \"white\", \"linecolor\": \"white\", \"ticks\": \"\", \"title\": {\"standoff\": 15}, \"zerolinecolor\": \"white\", \"zerolinewidth\": 2}}}, \"title\": {\"text\": \"Meat Consumption in India from 1990 to 2026\"}, \"xaxis\": {\"anchor\": \"y\", \"domain\": [0.0, 1.0], \"title\": {\"text\": \"Year\"}}, \"yaxis\": {\"anchor\": \"x\", \"domain\": [0.0, 1.0], \"title\": {\"text\": \"Meat Consumption (kilogram/capita)\"}}},\n",
              "                        {\"responsive\": true}\n",
              "                    ).then(function(){\n",
              "                            \n",
              "var gd = document.getElementById('2b2cb1a7-87f5-4597-b116-cd9b6bb240cc');\n",
              "var x = new MutationObserver(function (mutations, observer) {{\n",
              "        var display = window.getComputedStyle(gd).display;\n",
              "        if (!display || display === 'none') {{\n",
              "            console.log([gd, 'removed!']);\n",
              "            Plotly.purge(gd);\n",
              "            observer.disconnect();\n",
              "        }}\n",
              "}});\n",
              "\n",
              "// Listen for the removal of the full notebook cells\n",
              "var notebookContainer = gd.closest('#notebook-container');\n",
              "if (notebookContainer) {{\n",
              "    x.observe(notebookContainer, {childList: true});\n",
              "}}\n",
              "\n",
              "// Listen for the clearing of the current output cell\n",
              "var outputEl = gd.closest('.output');\n",
              "if (outputEl) {{\n",
              "    x.observe(outputEl, {childList: true});\n",
              "}}\n",
              "\n",
              "                        })\n",
              "                };\n",
              "                \n",
              "            </script>\n",
              "        </div>\n",
              "</body>\n",
              "</html>"
            ]
          },
          "metadata": {
            "tags": []
          }
        }
      ]
    },
    {
      "cell_type": "markdown",
      "metadata": {
        "id": "UfqzOySkxyNg"
      },
      "source": [
        "Import data from this [github repository](https://github.com/shannonpowelson/global-meat-consumption-analysis/blob/main/USA_Meat_Consumption.csv)"
      ]
    },
    {
      "cell_type": "code",
      "metadata": {
        "id": "2btCQACzBnsw"
      },
      "source": [
        "#import csv of meat consumption in the USA data from our github repository (this data is originally from Kaggle)\n",
        "#save the csv link\n",
        "USA_meat = \"https://raw.githubusercontent.com/shannonpowelson/global-meat-consumption-analysis/main/USA_Meat_Consumption.csv\""
      ],
      "execution_count": 139,
      "outputs": []
    },
    {
      "cell_type": "markdown",
      "metadata": {
        "id": "iQ4UqdwWyH-Z"
      },
      "source": [
        "Create the initial data frame"
      ]
    },
    {
      "cell_type": "code",
      "metadata": {
        "id": "Pq2yayt7ZYlq"
      },
      "source": [
        "#Define the data frame\n",
        "df_USA_meat = pd.read_csv(USA_meat)"
      ],
      "execution_count": 140,
      "outputs": []
    },
    {
      "cell_type": "markdown",
      "metadata": {
        "id": "L5v4mUc8yNEI"
      },
      "source": [
        "Melt the data frame for plotly express"
      ]
    },
    {
      "cell_type": "code",
      "metadata": {
        "id": "XZWPtAtHZli8"
      },
      "source": [
        "#melt the data frame\n",
        "df_USA_melt = pd.melt(df_USA_meat, id_vars=['Year'])"
      ],
      "execution_count": 141,
      "outputs": []
    },
    {
      "cell_type": "markdown",
      "metadata": {
        "id": "vyUv8aiZyXMj"
      },
      "source": [
        "Graph the meat consumption in the USA from 1990 to 2026"
      ]
    },
    {
      "cell_type": "code",
      "metadata": {
        "id": "iWr_SzhFbLob"
      },
      "source": [
        "#Create a trendline using plotly express\n",
        "USA_trend_line = px.line(df_USA_melt, x='Year', y='value', color = 'variable', title = 'Meat Consumption in the USA from 1990 to 2026', labels={'Year':'Year', 'value':'Meat Consumption (kilogram/capita)', 'variable':'Meat Type'})"
      ],
      "execution_count": 143,
      "outputs": []
    },
    {
      "cell_type": "code",
      "metadata": {
        "colab": {
          "base_uri": "https://localhost:8080/",
          "height": 542
        },
        "id": "JV0Rn-lqbyjb",
        "outputId": "17c852ff-00a5-45d1-bae8-38d56a8e05a4"
      },
      "source": [
        "#Plot the trendline\n",
        "USA_trend_line"
      ],
      "execution_count": 144,
      "outputs": [
        {
          "output_type": "display_data",
          "data": {
            "text/html": [
              "<html>\n",
              "<head><meta charset=\"utf-8\" /></head>\n",
              "<body>\n",
              "    <div>\n",
              "            <script src=\"https://cdnjs.cloudflare.com/ajax/libs/mathjax/2.7.5/MathJax.js?config=TeX-AMS-MML_SVG\"></script><script type=\"text/javascript\">if (window.MathJax) {MathJax.Hub.Config({SVG: {font: \"STIX-Web\"}});}</script>\n",
              "                <script type=\"text/javascript\">window.PlotlyConfig = {MathJaxConfig: 'local'};</script>\n",
              "        <script src=\"https://cdn.plot.ly/plotly-latest.min.js\"></script>    \n",
              "            <div id=\"fad58b1b-6b2d-4bcb-afeb-42db4afe2912\" class=\"plotly-graph-div\" style=\"height:525px; width:100%;\"></div>\n",
              "            <script type=\"text/javascript\">\n",
              "                \n",
              "                    window.PLOTLYENV=window.PLOTLYENV || {};\n",
              "                    \n",
              "                if (document.getElementById(\"fad58b1b-6b2d-4bcb-afeb-42db4afe2912\")) {\n",
              "                    Plotly.newPlot(\n",
              "                        'fad58b1b-6b2d-4bcb-afeb-42db4afe2912',\n",
              "                        [{\"hoverlabel\": {\"namelength\": 0}, \"hovertemplate\": \"Meat Type=Beef<br>Year=%{x}<br>Meat Consumption (kilogram/capita)=%{y}\", \"legendgroup\": \"Meat Type=Beef\", \"line\": {\"color\": \"#636efa\", \"dash\": \"solid\"}, \"mode\": \"lines\", \"name\": \"Meat Type=Beef\", \"showlegend\": true, \"type\": \"scatter\", \"x\": [1990, 1991, 1992, 1993, 1994, 1995, 1996, 1997, 1998, 1999, 2000, 2001, 2002, 2003, 2004, 2005, 2006, 2007, 2008, 2009, 2010, 2011, 2012, 2013, 2014, 2015, 2016, 2017, 2018, 2019, 2020, 2021, 2022, 2023, 2024, 2025, 2026], \"xaxis\": \"x\", \"y\": [30.58439501, 30.36112154, 30.25143052, 29.60549367, 30.64673982, 30.82671092, 30.91811042, 30.25044693, 30.67977792, 31.03156304, 31.13144558, 30.46864557, 31.13777007, 29.89333244, 30.46049842, 30.19648661, 30.33667204, 30.05972705, 28.8712793, 28.19983952, 27.56187572, 26.45223905, 26.27146035, 25.76733873, 24.8176457, 24.8114225, 25.6224474, 25.82328565, 26.28019261, 26.21618398, 26.13342596, 25.98248224, 25.86457498, 25.88189338, 25.83013948, 25.84284268, 25.85086367], \"yaxis\": \"y\"}, {\"hoverlabel\": {\"namelength\": 0}, \"hovertemplate\": \"Meat Type=Pig<br>Year=%{x}<br>Meat Consumption (kilogram/capita)=%{y}\", \"legendgroup\": \"Meat Type=Pig\", \"line\": {\"color\": \"#EF553B\", \"dash\": \"solid\"}, \"mode\": \"lines\", \"name\": \"Meat Type=Pig\", \"showlegend\": true, \"type\": \"scatter\", \"x\": [1990, 1991, 1992, 1993, 1994, 1995, 1996, 1997, 1998, 1999, 2000, 2001, 2002, 2003, 2004, 2005, 2006, 2007, 2008, 2009, 2010, 2011, 2012, 2013, 2014, 2015, 2016, 2017, 2018, 2019, 2020, 2021, 2022, 2023, 2024, 2025, 2026], \"xaxis\": \"x\", \"y\": [22.4309574, 22.72093271, 23.97408465, 23.65552195, 23.95713077, 23.60848675, 22.050027399999998, 21.80903274, 23.44010639, 23.97294821, 23.31579618, 22.89224038, 23.48332926, 23.62893972, 23.42757578, 22.83578285, 22.55211583, 23.18407226, 22.58028251, 22.84507242, 21.79038203, 20.80635586, 20.83481996, 21.35850236, 21.12080746, 22.64389419, 22.75840827, 23.56982762, 23.23261121, 23.37180842, 23.4780768, 23.65995271, 23.57487815, 23.61788934, 23.63518763, 23.67995973, 23.61563753], \"yaxis\": \"y\"}, {\"hoverlabel\": {\"namelength\": 0}, \"hovertemplate\": \"Meat Type=Poultry<br>Year=%{x}<br>Meat Consumption (kilogram/capita)=%{y}\", \"legendgroup\": \"Meat Type=Poultry\", \"line\": {\"color\": \"#00cc96\", \"dash\": \"solid\"}, \"mode\": \"lines\", \"name\": \"Meat Type=Poultry\", \"showlegend\": true, \"type\": \"scatter\", \"x\": [1990, 1991, 1992, 1993, 1994, 1995, 1996, 1997, 1998, 1999, 2000, 2001, 2002, 2003, 2004, 2005, 2006, 2007, 2008, 2009, 2010, 2011, 2012, 2013, 2014, 2015, 2016, 2017, 2018, 2019, 2020, 2021, 2022, 2023, 2024, 2025, 2026], \"xaxis\": \"x\", \"y\": [34.97056713, 36.40592063, 37.80231016, 38.45185546, 39.04276613, 38.89149253, 39.63871186, 39.87772523, 40.18279567, 42.61870431, 43.04634259, 43.04942831, 45.07455251, 45.44545679, 46.42405146, 47.10448852, 47.35279554, 46.60698846, 46.4602345, 44.38913405, 45.40926905, 46.39951319, 44.41506322, 44.22755120000001, 44.9407208, 47.65027355, 48.30057642, 48.82848839, 47.75633318, 47.85490399, 48.096311299999996, 48.25428914, 48.36538376, 48.44445333, 48.47757381, 48.466434899999996, 48.26007182], \"yaxis\": \"y\"}, {\"hoverlabel\": {\"namelength\": 0}, \"hovertemplate\": \"Meat Type=Sheep<br>Year=%{x}<br>Meat Consumption (kilogram/capita)=%{y}\", \"legendgroup\": \"Meat Type=Sheep\", \"line\": {\"color\": \"#ab63fa\", \"dash\": \"solid\"}, \"mode\": \"lines\", \"name\": \"Meat Type=Sheep\", \"showlegend\": true, \"type\": \"scatter\", \"x\": [1990, 1991, 1992, 1993, 1994, 1995, 1996, 1997, 1998, 1999, 2000, 2001, 2002, 2003, 2004, 2005, 2006, 2007, 2008, 2009, 2010, 2011, 2012, 2013, 2014, 2015, 2016, 2017, 2018, 2019, 2020, 2021, 2022, 2023, 2024, 2025, 2026], \"xaxis\": \"x\", \"y\": [0.626729648, 0.620546584, 0.600503433, 0.5837413610000001, 0.52301601, 0.5216712689999999, 0.494724777, 0.487098617, 0.519978664, 0.510847964, 0.49948883200000005, 0.513972995, 0.527195841, 0.503400709, 0.485471053, 0.473107147, 0.468799888, 0.502829357, 0.44180420000000004, 0.43134088, 0.40447380200000005, 0.37466935700000004, 0.3795509, 0.383571245, 0.40828403700000004, 0.417358254, 0.415569994, 0.37863323600000004, 0.375104094, 0.375710645, 0.374457854, 0.37353906, 0.37213132, 0.370691266, 0.36956541, 0.36872194399999997, 0.36867869299999995], \"yaxis\": \"y\"}],\n",
              "                        {\"legend\": {\"tracegroupgap\": 0}, \"template\": {\"data\": {\"bar\": [{\"error_x\": {\"color\": \"#2a3f5f\"}, \"error_y\": {\"color\": \"#2a3f5f\"}, \"marker\": {\"line\": {\"color\": \"#E5ECF6\", \"width\": 0.5}}, \"type\": \"bar\"}], \"barpolar\": [{\"marker\": {\"line\": {\"color\": \"#E5ECF6\", \"width\": 0.5}}, \"type\": \"barpolar\"}], \"carpet\": [{\"aaxis\": {\"endlinecolor\": \"#2a3f5f\", \"gridcolor\": \"white\", \"linecolor\": \"white\", \"minorgridcolor\": \"white\", \"startlinecolor\": \"#2a3f5f\"}, \"baxis\": {\"endlinecolor\": \"#2a3f5f\", \"gridcolor\": \"white\", \"linecolor\": \"white\", \"minorgridcolor\": \"white\", \"startlinecolor\": \"#2a3f5f\"}, \"type\": \"carpet\"}], \"choropleth\": [{\"colorbar\": {\"outlinewidth\": 0, \"ticks\": \"\"}, \"type\": \"choropleth\"}], \"contour\": [{\"colorbar\": {\"outlinewidth\": 0, \"ticks\": \"\"}, \"colorscale\": [[0.0, \"#0d0887\"], [0.1111111111111111, \"#46039f\"], [0.2222222222222222, \"#7201a8\"], [0.3333333333333333, \"#9c179e\"], [0.4444444444444444, \"#bd3786\"], [0.5555555555555556, \"#d8576b\"], [0.6666666666666666, \"#ed7953\"], [0.7777777777777778, \"#fb9f3a\"], [0.8888888888888888, \"#fdca26\"], [1.0, \"#f0f921\"]], \"type\": \"contour\"}], \"contourcarpet\": [{\"colorbar\": {\"outlinewidth\": 0, \"ticks\": \"\"}, \"type\": \"contourcarpet\"}], \"heatmap\": [{\"colorbar\": {\"outlinewidth\": 0, \"ticks\": \"\"}, \"colorscale\": [[0.0, \"#0d0887\"], [0.1111111111111111, \"#46039f\"], [0.2222222222222222, \"#7201a8\"], [0.3333333333333333, \"#9c179e\"], [0.4444444444444444, \"#bd3786\"], [0.5555555555555556, \"#d8576b\"], [0.6666666666666666, \"#ed7953\"], [0.7777777777777778, \"#fb9f3a\"], [0.8888888888888888, \"#fdca26\"], [1.0, \"#f0f921\"]], \"type\": \"heatmap\"}], \"heatmapgl\": [{\"colorbar\": {\"outlinewidth\": 0, \"ticks\": \"\"}, \"colorscale\": [[0.0, \"#0d0887\"], [0.1111111111111111, \"#46039f\"], [0.2222222222222222, \"#7201a8\"], [0.3333333333333333, \"#9c179e\"], [0.4444444444444444, \"#bd3786\"], [0.5555555555555556, \"#d8576b\"], [0.6666666666666666, \"#ed7953\"], [0.7777777777777778, \"#fb9f3a\"], [0.8888888888888888, \"#fdca26\"], [1.0, \"#f0f921\"]], \"type\": \"heatmapgl\"}], \"histogram\": [{\"marker\": {\"colorbar\": {\"outlinewidth\": 0, \"ticks\": \"\"}}, \"type\": \"histogram\"}], \"histogram2d\": [{\"colorbar\": {\"outlinewidth\": 0, \"ticks\": \"\"}, \"colorscale\": [[0.0, \"#0d0887\"], [0.1111111111111111, \"#46039f\"], [0.2222222222222222, \"#7201a8\"], [0.3333333333333333, \"#9c179e\"], [0.4444444444444444, \"#bd3786\"], [0.5555555555555556, \"#d8576b\"], [0.6666666666666666, \"#ed7953\"], [0.7777777777777778, \"#fb9f3a\"], [0.8888888888888888, \"#fdca26\"], [1.0, \"#f0f921\"]], \"type\": \"histogram2d\"}], \"histogram2dcontour\": [{\"colorbar\": {\"outlinewidth\": 0, \"ticks\": \"\"}, \"colorscale\": [[0.0, \"#0d0887\"], [0.1111111111111111, \"#46039f\"], [0.2222222222222222, \"#7201a8\"], [0.3333333333333333, \"#9c179e\"], [0.4444444444444444, \"#bd3786\"], [0.5555555555555556, \"#d8576b\"], [0.6666666666666666, \"#ed7953\"], [0.7777777777777778, \"#fb9f3a\"], [0.8888888888888888, \"#fdca26\"], [1.0, \"#f0f921\"]], \"type\": \"histogram2dcontour\"}], \"mesh3d\": [{\"colorbar\": {\"outlinewidth\": 0, \"ticks\": \"\"}, \"type\": \"mesh3d\"}], \"parcoords\": [{\"line\": {\"colorbar\": {\"outlinewidth\": 0, \"ticks\": \"\"}}, \"type\": \"parcoords\"}], \"pie\": [{\"automargin\": true, \"type\": \"pie\"}], \"scatter\": [{\"marker\": {\"colorbar\": {\"outlinewidth\": 0, \"ticks\": \"\"}}, \"type\": \"scatter\"}], \"scatter3d\": [{\"line\": {\"colorbar\": {\"outlinewidth\": 0, \"ticks\": \"\"}}, \"marker\": {\"colorbar\": {\"outlinewidth\": 0, \"ticks\": \"\"}}, \"type\": \"scatter3d\"}], \"scattercarpet\": [{\"marker\": {\"colorbar\": {\"outlinewidth\": 0, \"ticks\": \"\"}}, \"type\": \"scattercarpet\"}], \"scattergeo\": [{\"marker\": {\"colorbar\": {\"outlinewidth\": 0, \"ticks\": \"\"}}, \"type\": \"scattergeo\"}], \"scattergl\": [{\"marker\": {\"colorbar\": {\"outlinewidth\": 0, \"ticks\": \"\"}}, \"type\": \"scattergl\"}], \"scattermapbox\": [{\"marker\": {\"colorbar\": {\"outlinewidth\": 0, \"ticks\": \"\"}}, \"type\": \"scattermapbox\"}], \"scatterpolar\": [{\"marker\": {\"colorbar\": {\"outlinewidth\": 0, \"ticks\": \"\"}}, \"type\": \"scatterpolar\"}], \"scatterpolargl\": [{\"marker\": {\"colorbar\": {\"outlinewidth\": 0, \"ticks\": \"\"}}, \"type\": \"scatterpolargl\"}], \"scatterternary\": [{\"marker\": {\"colorbar\": {\"outlinewidth\": 0, \"ticks\": \"\"}}, \"type\": \"scatterternary\"}], \"surface\": [{\"colorbar\": {\"outlinewidth\": 0, \"ticks\": \"\"}, \"colorscale\": [[0.0, \"#0d0887\"], [0.1111111111111111, \"#46039f\"], [0.2222222222222222, \"#7201a8\"], [0.3333333333333333, \"#9c179e\"], [0.4444444444444444, \"#bd3786\"], [0.5555555555555556, \"#d8576b\"], [0.6666666666666666, \"#ed7953\"], [0.7777777777777778, \"#fb9f3a\"], [0.8888888888888888, \"#fdca26\"], [1.0, \"#f0f921\"]], \"type\": \"surface\"}], \"table\": [{\"cells\": {\"fill\": {\"color\": \"#EBF0F8\"}, \"line\": {\"color\": \"white\"}}, \"header\": {\"fill\": {\"color\": \"#C8D4E3\"}, \"line\": {\"color\": \"white\"}}, \"type\": \"table\"}]}, \"layout\": {\"annotationdefaults\": {\"arrowcolor\": \"#2a3f5f\", \"arrowhead\": 0, \"arrowwidth\": 1}, \"coloraxis\": {\"colorbar\": {\"outlinewidth\": 0, \"ticks\": \"\"}}, \"colorscale\": {\"diverging\": [[0, \"#8e0152\"], [0.1, \"#c51b7d\"], [0.2, \"#de77ae\"], [0.3, \"#f1b6da\"], [0.4, \"#fde0ef\"], [0.5, \"#f7f7f7\"], [0.6, \"#e6f5d0\"], [0.7, \"#b8e186\"], [0.8, \"#7fbc41\"], [0.9, \"#4d9221\"], [1, \"#276419\"]], \"sequential\": [[0.0, \"#0d0887\"], [0.1111111111111111, \"#46039f\"], [0.2222222222222222, \"#7201a8\"], [0.3333333333333333, \"#9c179e\"], [0.4444444444444444, \"#bd3786\"], [0.5555555555555556, \"#d8576b\"], [0.6666666666666666, \"#ed7953\"], [0.7777777777777778, \"#fb9f3a\"], [0.8888888888888888, \"#fdca26\"], [1.0, \"#f0f921\"]], \"sequentialminus\": [[0.0, \"#0d0887\"], [0.1111111111111111, \"#46039f\"], [0.2222222222222222, \"#7201a8\"], [0.3333333333333333, \"#9c179e\"], [0.4444444444444444, \"#bd3786\"], [0.5555555555555556, \"#d8576b\"], [0.6666666666666666, \"#ed7953\"], [0.7777777777777778, \"#fb9f3a\"], [0.8888888888888888, \"#fdca26\"], [1.0, \"#f0f921\"]]}, \"colorway\": [\"#636efa\", \"#EF553B\", \"#00cc96\", \"#ab63fa\", \"#FFA15A\", \"#19d3f3\", \"#FF6692\", \"#B6E880\", \"#FF97FF\", \"#FECB52\"], \"font\": {\"color\": \"#2a3f5f\"}, \"geo\": {\"bgcolor\": \"white\", \"lakecolor\": \"white\", \"landcolor\": \"#E5ECF6\", \"showlakes\": true, \"showland\": true, \"subunitcolor\": \"white\"}, \"hoverlabel\": {\"align\": \"left\"}, \"hovermode\": \"closest\", \"mapbox\": {\"style\": \"light\"}, \"paper_bgcolor\": \"white\", \"plot_bgcolor\": \"#E5ECF6\", \"polar\": {\"angularaxis\": {\"gridcolor\": \"white\", \"linecolor\": \"white\", \"ticks\": \"\"}, \"bgcolor\": \"#E5ECF6\", \"radialaxis\": {\"gridcolor\": \"white\", \"linecolor\": \"white\", \"ticks\": \"\"}}, \"scene\": {\"xaxis\": {\"backgroundcolor\": \"#E5ECF6\", \"gridcolor\": \"white\", \"gridwidth\": 2, \"linecolor\": \"white\", \"showbackground\": true, \"ticks\": \"\", \"zerolinecolor\": \"white\"}, \"yaxis\": {\"backgroundcolor\": \"#E5ECF6\", \"gridcolor\": \"white\", \"gridwidth\": 2, \"linecolor\": \"white\", \"showbackground\": true, \"ticks\": \"\", \"zerolinecolor\": \"white\"}, \"zaxis\": {\"backgroundcolor\": \"#E5ECF6\", \"gridcolor\": \"white\", \"gridwidth\": 2, \"linecolor\": \"white\", \"showbackground\": true, \"ticks\": \"\", \"zerolinecolor\": \"white\"}}, \"shapedefaults\": {\"line\": {\"color\": \"#2a3f5f\"}}, \"ternary\": {\"aaxis\": {\"gridcolor\": \"white\", \"linecolor\": \"white\", \"ticks\": \"\"}, \"baxis\": {\"gridcolor\": \"white\", \"linecolor\": \"white\", \"ticks\": \"\"}, \"bgcolor\": \"#E5ECF6\", \"caxis\": {\"gridcolor\": \"white\", \"linecolor\": \"white\", \"ticks\": \"\"}}, \"title\": {\"x\": 0.05}, \"xaxis\": {\"automargin\": true, \"gridcolor\": \"white\", \"linecolor\": \"white\", \"ticks\": \"\", \"title\": {\"standoff\": 15}, \"zerolinecolor\": \"white\", \"zerolinewidth\": 2}, \"yaxis\": {\"automargin\": true, \"gridcolor\": \"white\", \"linecolor\": \"white\", \"ticks\": \"\", \"title\": {\"standoff\": 15}, \"zerolinecolor\": \"white\", \"zerolinewidth\": 2}}}, \"title\": {\"text\": \"Meat Consumption in the USA from 1990 to 2026\"}, \"xaxis\": {\"anchor\": \"y\", \"domain\": [0.0, 1.0], \"title\": {\"text\": \"Year\"}}, \"yaxis\": {\"anchor\": \"x\", \"domain\": [0.0, 1.0], \"title\": {\"text\": \"Meat Consumption (kilogram/capita)\"}}},\n",
              "                        {\"responsive\": true}\n",
              "                    ).then(function(){\n",
              "                            \n",
              "var gd = document.getElementById('fad58b1b-6b2d-4bcb-afeb-42db4afe2912');\n",
              "var x = new MutationObserver(function (mutations, observer) {{\n",
              "        var display = window.getComputedStyle(gd).display;\n",
              "        if (!display || display === 'none') {{\n",
              "            console.log([gd, 'removed!']);\n",
              "            Plotly.purge(gd);\n",
              "            observer.disconnect();\n",
              "        }}\n",
              "}});\n",
              "\n",
              "// Listen for the removal of the full notebook cells\n",
              "var notebookContainer = gd.closest('#notebook-container');\n",
              "if (notebookContainer) {{\n",
              "    x.observe(notebookContainer, {childList: true});\n",
              "}}\n",
              "\n",
              "// Listen for the clearing of the current output cell\n",
              "var outputEl = gd.closest('.output');\n",
              "if (outputEl) {{\n",
              "    x.observe(outputEl, {childList: true});\n",
              "}}\n",
              "\n",
              "                        })\n",
              "                };\n",
              "                \n",
              "            </script>\n",
              "        </div>\n",
              "</body>\n",
              "</html>"
            ]
          },
          "metadata": {
            "tags": []
          }
        }
      ]
    }
  ]
}